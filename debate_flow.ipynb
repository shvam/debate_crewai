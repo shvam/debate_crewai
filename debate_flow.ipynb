{
 "cells": [
  {
   "cell_type": "markdown",
   "metadata": {},
   "source": [
    "Debate CrewAI flow\n"
   ]
  },
  {
   "cell_type": "code",
   "execution_count": null,
   "metadata": {},
   "outputs": [],
   "source": [
    "%pip install -qU crewai"
   ]
  },
  {
   "cell_type": "code",
   "execution_count": null,
   "metadata": {},
   "outputs": [],
   "source": [
    "import nest_asyncio\n",
    "import asyncio\n",
    "import os\n",
    "nest_asyncio.apply()"
   ]
  },
  {
   "cell_type": "code",
   "execution_count": null,
   "metadata": {},
   "outputs": [],
   "source": [
    "os.environ[\"OPENAI_API_KEY\"] = \"Your OpenAI API Key\""
   ]
  },
  {
   "cell_type": "code",
   "execution_count": null,
   "metadata": {},
   "outputs": [],
   "source": [
    "from crewai.flow.flow import Flow, listen, start\n",
    "from litellm import completion\n",
    "\n",
    "\n",
    "# Debate flow class\n",
    "\n",
    "class DebateFlow(Flow):\n",
    "    model = \"gpt-4o-mini\"\n",
    "    def __init__(self, topic=\"the benefits of AI\"):  #adding default topic\n",
    "        super().__init__()\n",
    "        self.topic = topic\n",
    "\n",
    "    @start()\n",
    "    def opening_argument(self):\n",
    "      response = completion(\n",
    "            model=self.model,\n",
    "            messages=[\n",
    "                {\n",
    "                    \"role\": \"user\",\n",
    "                    \"content\": f\"Initiate the Debate dicsussion by providing arguments in support of {self.topic}. Provide justifications and examples to make them effective.\",\n",
    "                },\n",
    "            ],\n",
    "        )\n",
    "\n",
    "      argument_response = response[\"choices\"][0][\"message\"][\"content\"]\n",
    "      print(\"Arguments in favour:\")\n",
    "      print(argument_response)\n",
    "      return argument_response\n",
    "\n",
    "    @listen(opening_argument)\n",
    "    def counter_argument(self, response):\n",
    "      response = completion(\n",
    "            model=self.model,\n",
    "            messages=[\n",
    "                {\n",
    "                    \"role\": \"user\",\n",
    "                    \"content\": f\"Provide arguments in opposition to {self.topic}. Counter the previous arguments. Provide justifications and examples to make them effective. \",\n",
    "                },\n",
    "            ],\n",
    "        )\n",
    "\n",
    "      argument_response = response[\"choices\"][0][\"message\"][\"content\"]\n",
    "      print(\"Arguments against\")\n",
    "      return argument_response\n",
    "\n",
    "debate_flow = DebateFlow(\"Children using Social media\")\n",
    "response = debate_flow.kickoff()\n",
    "print(response)\n",
    "\n"
   ]
  }
 ],
 "metadata": {
  "language_info": {
   "name": "python"
  }
 },
 "nbformat": 4,
 "nbformat_minor": 2
}
